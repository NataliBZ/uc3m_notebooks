{
 "cells": [
  {
   "cell_type": "markdown",
   "id": "857d727f-ec2a-4819-8517-d06cd6233743",
   "metadata": {},
   "source": [
    "<center><font size = \"8\">Analysis of electro-physiological traces<center>"
   ]
  },
  {
   "cell_type": "markdown",
   "id": "3fabc5be-1d7c-4225-8ff2-a075d1251085",
   "metadata": {},
   "source": [
    "<font size=4><font color=blue> In this notebook you will learn:\n",
    "<ul style=\"color: blue; font-size: 18px;\">\n",
    "    <li> to ifferenciate two different cell types depending on their firing pattern with subthres-hold and supra-threshold stimulations</li>\n",
    "    <li> to analyse real single cell traces with different stimulations</li>\n",
    "    <li> to analyse synaptic traces and differenciate between action potentials and post-synaptic potentials</li>\n",
    "</ul>"
   ]
  },
  {
   "cell_type": "markdown",
   "id": "7edf02f8-0470-4ca5-87c2-ab6e08abbb0b",
   "metadata": {},
   "source": [
    "<p style=\"color: red; font-size: 16px;\"><b>IMPORTANT:</b> this notebook is using <b>Python</b> code to help you load, visualize and analyze the morphologies.</p>\n",
    "<ul style=\"color: red; font-size: 16px;\">\n",
    "  <li><b>YOU DON'T NEED TO KNOW HOW TO CODE!</b> (you will learn to code in future courses)</li>\n",
    "  <li>YOU WOULD ONLY RUN THE CELLS. To run the cells: </li>\n",
    "    <ul style=\"color: red; font-size: 16px;\">\n",
    "        <li>Click once on one of the cells, you will notice that it is sellected because it is highlighted in blue.</li>\n",
    "        <li>Press \"Command+enter\" or click on the Run (triangle) button at the top of the page.</li>\n",
    "        <li>Consider that cells <b>must be run by order</b> </li>\n",
    "    </ul>\n",
    "</ul>"
   ]
  },
  {
   "cell_type": "markdown",
   "id": "645be8a7-1e2a-4145-bae1-92a190c0828c",
   "metadata": {},
   "source": [
    "## 1. Studying single cell passive and active properties: sub-threshold and supra-threshold stimulations"
   ]
  },
  {
   "cell_type": "code",
   "execution_count": 1,
   "id": "1d0438bb-3849-4333-b493-9fc871c5a288",
   "metadata": {},
   "outputs": [
    {
     "name": "stderr",
     "output_type": "stream",
     "text": [
      "Warning: no DISPLAY environment variable.\n",
      "--No graphics will be displayed.\n"
     ]
    }
   ],
   "source": [
    "# Load usefull packages\n",
    "%matplotlib inline\n",
    "\n",
    "from neuron import h\n",
    "import hoc\n",
    "import matplotlib.pyplot as plt\n",
    "import numpy as np\n",
    "import math as m\n",
    "import neurom as nm\n",
    "from neurom import view\n",
    "import pandas as pd\n",
    "import h5py\n",
    "import csv\n",
    "import glob\n",
    "\n",
    "import efel\n",
    "from json2html import *\n",
    "import IPython\n",
    "import ipywidgets as widgets\n",
    "from IPython.display import display, clear_output\n",
    "\n",
    "import instantiate_neuron as IN\n",
    "import stimuli\n",
    "import Relevant_functions as rf"
   ]
  },
  {
   "cell_type": "markdown",
   "id": "71d77182-82a3-47d5-8cb0-f6361ae2e337",
   "metadata": {},
   "source": [
    "## Sub-threshold stimulation\n",
    "\n",
    "<ul style=\"font-size: 18px;\">\n",
    "    <li>A current pulse that does not reach the threshold needed to trigger an action potential.</li>\n",
    "    <li>The cell responds only with a graded change in membrane potential (a depolarization or hyperpolarization), but no spike is fired.</li>\n",
    "    <li>Useful to study passive properties of the membrane (e.g., input resistance, capacitance, time constant).</li>\n",
    "</ul>"
   ]
  },
  {
   "cell_type": "code",
   "execution_count": null,
   "id": "a1f803b7-a4b1-4efe-b963-16893dddd205",
   "metadata": {},
   "outputs": [],
   "source": [
    "stim_ampl_1 = np.arange(- 0.05, 0.01, 0.008)\n",
    "\n",
    "filename1 = 'data/Cell_01.asc'\n",
    "filename2 = 'data/Cell_02.asc'\n",
    "\n",
    "fig, axs = plt.subplots(2, 2, figsize=(12, 6), sharex=True)\n",
    "\n",
    "# Left column: neuron 1\n",
    "stimuli.SquarePulses_stim(stim_ampl_1, filename1, 'Sub_threshold_cell1.csv', axs=axs[:,0])\n",
    "\n",
    "# Right column: neuron 2\n",
    "stimuli.SquarePulses_stim(stim_ampl_1, filename2, 'Sub_threshold_cell2.csv', axs=axs[:,1])\n",
    "\n",
    "fig.suptitle('Sub-threshold stimulation')\n",
    "plt.tight_layout()\n",
    "plt.show()\n"
   ]
  },
  {
   "cell_type": "markdown",
   "id": "8f6b950a-f2ad-4983-866e-f194dd9c489d",
   "metadata": {},
   "source": [
    "# Supra-threshold stimulation\n",
    "\n",
    "<ul style=\"font-size: 18px;\">\n",
    "    <li>A current pulse that exceeds the threshold for firing.</li>\n",
    "    <li>The depolarization activates voltage-gated channels, and the cell generates an action potential (all-or-none spike).</li>\n",
    "    <li>Useful to study active properties of the neuron (e.g., action potential shape, firing patterns, excitability).</li>\n",
    "</ul>"
   ]
  },
  {
   "cell_type": "code",
   "execution_count": null,
   "id": "15dcea58-70ae-4ee7-a192-6084cb170964",
   "metadata": {},
   "outputs": [],
   "source": [
    "stim_ampl_2 = np.arange(0.01, 5.0, 0.5)\n",
    "\n",
    "fig, axs = plt.subplots(2, 2, figsize=(12, 6), sharex=True)\n",
    "\n",
    "# Left column: neuron 1\n",
    "stimuli.SquarePulses_stim(stim_ampl_2, filename1, 'Sub_threshold_cell1.csv', axs=axs[:,0])\n",
    "\n",
    "# Right column: neuron 2\n",
    "stimuli.SquarePulses_stim(stim_ampl_2, filename2, 'Sub_threshold_cell2.csv', axs=axs[:,1])\n",
    "\n",
    "fig.suptitle('Supra-threshold stimulation')\n",
    "plt.tight_layout()\n",
    "plt.show()"
   ]
  },
  {
   "cell_type": "markdown",
   "id": "047e88db-d053-4130-b4a6-b1a5db538682",
   "metadata": {},
   "source": [
    "## 2. Analysing real single cell recordings from patch-clamp experiments"
   ]
  },
  {
   "cell_type": "markdown",
   "id": "cde7b308-8a68-498b-a758-50063fa890c1",
   "metadata": {},
   "source": [
    "<ul style=\"font-size: 18px;\">\n",
    "These type of experiments, similarly to the ones shown above, are done by stimulating and recording simultaneously on the cell soma.\n",
    "</ul>\n",
    "\n",
    "### Traces description\n",
    "\n",
    "<ul style=\"font-size: 18px;\">\n",
    "    <li>The files inside the \"data\" folder, are named with: stimuli type (e.g. \"APWaveform\", \"FirePattern\", \"IV\").</li> \n",
    "    <li>Sweep (repetition) number: (e.g. \"APWaveform_46-51\"), of increasing/decreasing amplitudes.</li> \n",
    "    <li>Note that we have pairs of recordings with the same trace number (e.g. \"exp_APWaveform_ch7_51.dat\" and \"exp_APWaveform_ch6_51.dat\"). One of them contains the current stimulus (in this case \"*ch7*\") and the other the voltage response (in this case \"*ch6*\").</li> \n",
    "</ul>\n",
    "\n",
    "### For the analyses:\n",
    "\n",
    "<p style=\"font-size: 18px;\">\n",
    "We will use a library called <a href=\"https://efel.readthedocs.io/en/latest/eFeatures.html#burst-isi-indices\" target=\"_blank\">eFEL</a>. Click on the link if you rae curious about what parameters you can extract from this type of traces.\n",
    "</p>"
   ]
  },
  {
   "cell_type": "code",
   "execution_count": null,
   "id": "b337fa22-d853-4cf2-80ad-2e43744f547a",
   "metadata": {},
   "outputs": [],
   "source": [
    "rf.choose_protocol()"
   ]
  },
  {
   "cell_type": "markdown",
   "id": "1578023f-2fcd-4d08-8e09-1ba451c8eaeb",
   "metadata": {},
   "source": [
    "### Can you tell if it is a suprathreshold or subthreshold stimulation?\n",
    "\n",
    "#### Choose the correct answer and perform some analysis on the response file.\n",
    "#### If you see errors, that means your answer was wrong. "
   ]
  },
  {
   "cell_type": "code",
   "execution_count": null,
   "id": "9e000177-90ff-489d-afd8-fdaa37479f58",
   "metadata": {},
   "outputs": [],
   "source": [
    "rf.choose_answer()"
   ]
  },
  {
   "cell_type": "markdown",
   "id": "c64015b9-3a02-4f10-8c7f-0846ef8344fd",
   "metadata": {},
   "source": [
    "## 3. Analysing post-synaptic potentials\n",
    "\n",
    "<ul style=\"font-size: 18px;\">\n",
    "In this type of experiments what we want to see is how one neuron respond to the activity of the neuron that is connected to it. \n",
    "\n",
    "Then what we see here is the stimulation in the pre-synaptic neuron and the response of the post-synaptic neuron.\n",
    "</ul>\n",
    "\n",
    "### Action Potential vs Post-synaptic Potential \n",
    "\n",
    "#### Action Potential (AP)\n",
    "<ul style=\"font-size: 18px;\">   \n",
    "    <li>What it is: A rapid, all-or-none electrical signal that travels along the axon of a neuron.</li>\n",
    "    <li>Where it happens: Typically starts at the axon hillock and propagates along the axon.</li>\n",
    "    <li>How it’s generated: Caused by the opening of voltage-gated sodium (Na⁺) and potassium (K⁺) channels. Once the threshold is reached, the full spike always occurs (all-or-none).</li>\n",
    "    <li>Amplitude: Large (~100 mV, from –70 mV up to +30 mV).</li>\n",
    "    <li>Function: Used to transmit information over long distances in the nervous system.</li>\n",
    "</ul>\n",
    "\n",
    "#### Postsynaptic Potential (PSP)\n",
    "<ul style=\"font-size: 18px;\">  \n",
    "    <li>What it is: A small, graded change in membrane potential in the postsynaptic neuron after neurotransmitter binding.</li>\n",
    "    <li>Where it happens: On the dendrites or soma of the postsynaptic neuron.</li>\n",
    "    <li>How it’s generated: Caused by the opening of ligand-gated ion channels (e.g., glutamate receptors, GABA receptors) when neurotransmitters bind.</li>\n",
    "    <li>Amplitude: Small (a few mV, usually 0.2–20 mV), and proportional to the amount of neurotransmitter released.</li>\n",
    "    <li>Function: They integrate (summation of many PSPs) and determine whether the postsynaptic neuron reaches threshold to fire an action potential.</li>\n",
    "    <li>Excitatory PSP (EPSP): depolarizes, makes firing more likely.</li>\n",
    "    <li>Inhibitory PSP (IPSP): hyperpolarizes, makes firing less likely.</li>\n",
    "</ul>"
   ]
  },
  {
   "cell_type": "code",
   "execution_count": null,
   "id": "2100f915-5b40-40b1-9274-d342df7065bf",
   "metadata": {},
   "outputs": [],
   "source": [
    "# Open and print keys to check how many sweeps (repetitions) of the experiment there are in the file\n",
    "data = h5py.File(\"connection_test.h5\", \"r\")\n",
    "\n",
    "# Create a data array and compute the mean trace by computing the mean of all sweeps\n",
    "traces = []\n",
    "for key in data.keys():\n",
    "    traces.append(data.get(key))\n",
    "\n",
    "traces = np.array(traces)\n",
    "\n",
    "mean_trace = np.mean(traces, axis=0)\n",
    "\n",
    "# plot the sweeps and the mean voltage trace\n",
    "plt.figure()\n",
    "\n",
    "for trace in traces:\n",
    "    plt.plot(trace, \"b--\")\n",
    "\n",
    "plt.plot(mean_trace, \"r\")\n",
    "plt.ylabel('V (V)')\n",
    "plt.xlabel('time (ms)')"
   ]
  },
  {
   "cell_type": "code",
   "execution_count": null,
   "id": "3aa84a5d-cd92-4ad6-8be6-17e8eea60a93",
   "metadata": {},
   "outputs": [],
   "source": [
    "time = np.linspace(0, 1.3, 13000)\n",
    "stimulation_indices = np.array([1000, 1500, 2000, 2500, 3000, 3500, 4000, 4500, 10000])\n",
    "\n",
    "stimulation_time = time[stimulation_indices[0]]\n",
    "\n",
    "psp_trace, psp_time = rf.extract_PSP_window(mean_trace, time, stimulation_indices[0])\n",
    "\n",
    "psp_percent, psp_times, amplitude, tau_rise, latency = rf.extract_EPSP_features(\n",
    "    psp_trace, psp_time, stimulation_time\n",
    ")\n",
    "plt.figure(figsize=(10, 5))\n",
    "plt.plot(psp_time, psp_trace, label=\"first EPSP\")\n",
    "plt.scatter(psp_times[\"five\"], psp_percent[\"five\"], c=\"g\", label=\"5%\")\n",
    "plt.scatter(psp_times[\"twenty\"], psp_percent[\"twenty\"], c=\"r\", label=\"20%\")\n",
    "plt.scatter(psp_times[\"eighty\"], psp_percent[\"eighty\"], c=\"m\", label=\"80%\")\n",
    "plt.xlabel(\"Time [s]\")\n",
    "plt.ylabel(\"Voltage [V]\")\n",
    "\n",
    "plt.legend()\n",
    "plt.show()\n",
    "\n",
    "print(\"Amplitude = \", np.abs(amplitude*1000.0), \"mV\")\n",
    "print(\"Tau_rise = \", tau_rise, \"s\")\n",
    "print(\"latency = \", latency, \"s\")"
   ]
  },
  {
   "cell_type": "markdown",
   "id": "b346ebfd-d86f-4b19-b715-c1a84fddf450",
   "metadata": {},
   "source": [
    "#### This protocol of STDP (short term dependent plasticity) has been used to classified synapses depending on the dynamics and this data can also be analysed\n",
    "\n",
    "<center><img src=\"Synapses.png\" width=\"700\"><center>"
   ]
  },
  {
   "cell_type": "markdown",
   "id": "9d55f0b0-22bd-44db-9dd4-c626e1a7274d",
   "metadata": {},
   "source": [
    "### One very common analysis: FAILURE RATE"
   ]
  },
  {
   "cell_type": "markdown",
   "id": "c13474e0-8b42-480c-9faa-8b9d6420774d",
   "metadata": {},
   "source": [
    "<font size='3'>The failure rate is the fraction of trials from which no PSP is generated above certain threshold. You can find a way of computing the failure rate in [Feldmeyer et al., 1999](https://www.ncbi.nlm.nih.gov/pmc/articles/PMC2269646/)."
   ]
  },
  {
   "cell_type": "code",
   "execution_count": 2,
   "id": "806d3ab6-c3b6-42a0-85b1-a0864effec69",
   "metadata": {},
   "outputs": [],
   "source": [
    "files = [\n",
    "    \"data/connection_c1.h5\",\n",
    "    \"data/connection_c2.h5\",\n",
    "    \"data/connection_c4.h5\",\n",
    "]"
   ]
  },
  {
   "cell_type": "code",
   "execution_count": 3,
   "id": "3895f3bb-3164-4676-9da9-62bc70c976ea",
   "metadata": {},
   "outputs": [],
   "source": [
    "conn1, conn2, conn3 = rf.compute_failure_rate(files)"
   ]
  },
  {
   "cell_type": "code",
   "execution_count": 4,
   "id": "090c4def-9f19-4092-9b9e-de2529deed7b",
   "metadata": {},
   "outputs": [
    {
     "data": {
      "image/png": "[encoded data removed]",
      "text/plain": [
       "<Figure size 640x480 with 1 Axes>"
      ]
     },
     "metadata": {},
     "output_type": "display_data"
    }
   ],
   "source": [
    "data_name = [\"c1\", \"c2\", \"c3\"]\n",
    "fails = [conn1[0], conn2[0], conn3[0]]\n",
    "total = conn1[1]\n",
    "plt.bar(data_name[0], fails[0] / total * 100)\n",
    "plt.bar(data_name[1], fails[1] / total * 100)\n",
    "plt.bar(data_name[2], fails[2] / total * 100)\n",
    "\n",
    "plt.title(\"Mean failure rate of different connections\")\n",
    "plt.ylabel(\"Failure [%]\");"
   ]
  },
  {
   "cell_type": "code",
   "execution_count": 6,
   "id": "ec972873-09cc-4a2d-b463-5fd50ced9d6e",
   "metadata": {},
   "outputs": [
    {
     "data": {
      "image/png": "[encoded data removed]",
      "text/plain": [
       "<Figure size 1500x500 with 3 Axes>"
      ]
     },
     "metadata": {},
     "output_type": "display_data"
    }
   ],
   "source": [
    "fig, ax = plt.subplots(1, 3, figsize=(15, 5))\n",
    "ax[0].hist(conn1[3], bins=30, label=\"correct\")\n",
    "ax[0].hist(conn1[2], label=\"failed\")\n",
    "\n",
    "ax[1].hist(conn2[3], bins=30, label=\"correct\")\n",
    "ax[1].hist(conn2[2], bins=2, label=\"failed\")\n",
    "\n",
    "ax[2].hist(conn3[3], bins=30, label=\"correct\")\n",
    "ax[2].hist(conn3[2], label=\"failed\")\n",
    "\n",
    "fig.suptitle(\"EPSPs Amplitude Failed/Correct\")\n",
    "ax[0].set_title(\"C_1\")\n",
    "ax[1].set_title(\"C_2\")\n",
    "ax[2].set_title(\"C_3\")\n",
    "ax[0].legend();"
   ]
  }
 ],
 "metadata": {
  "kernelspec": {
   "display_name": "Python 3 (ipykernel)",
   "language": "python",
   "name": "python3"
  },
  "language_info": {
   "codemirror_mode": {
    "name": "ipython",
    "version": 3
   },
   "file_extension": ".py",
   "mimetype": "text/x-python",
   "name": "python",
   "nbconvert_exporter": "python",
   "pygments_lexer": "ipython3",
   "version": "3.11.13"
  }
 },
 "nbformat": 4,
 "nbformat_minor": 5
}
